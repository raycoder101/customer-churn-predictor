{
 "cells": [
  {
   "cell_type": "code",
   "execution_count": 4,
   "id": "990164bd-1a9c-4135-b128-fdbf1a17fa0a",
   "metadata": {},
   "outputs": [
    {
     "name": "stdout",
     "output_type": "stream",
     "text": [
      "Accuracy: 1.00\n"
     ]
    }
   ],
   "source": [
    "import sys\n",
    "import os\n",
    "\n",
    "# Compute absolute path to the src directory\n",
    "src_path = os.path.abspath(os.path.join(os.getcwd(), \"..\", \"src\"))\n",
    "if src_path not in sys.path:\n",
    "    sys.path.insert(0, src_path)\n",
    "\n",
    "# Now try importing\n",
    "from models.churn_model import load_data, train_model\n",
    "\n",
    "df = load_data(\"../data/churn.csv\")\n",
    "model = train_model(df)"
   ]
  },
  {
   "cell_type": "code",
   "execution_count": null,
   "id": "ad0274a9-c23c-4585-b95b-5d519e15f8ea",
   "metadata": {},
   "outputs": [],
   "source": []
  }
 ],
 "metadata": {
  "kernelspec": {
   "display_name": "Python 3 (ipykernel)",
   "language": "python",
   "name": "python3"
  },
  "language_info": {
   "codemirror_mode": {
    "name": "ipython",
    "version": 3
   },
   "file_extension": ".py",
   "mimetype": "text/x-python",
   "name": "python",
   "nbconvert_exporter": "python",
   "pygments_lexer": "ipython3",
   "version": "3.11.13"
  }
 },
 "nbformat": 4,
 "nbformat_minor": 5
}
